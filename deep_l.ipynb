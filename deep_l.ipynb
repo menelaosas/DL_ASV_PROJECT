{
  "nbformat": 4,
  "nbformat_minor": 0,
  "metadata": {
    "colab": {
      "provenance": [],
      "authorship_tag": "ABX9TyOAYQXuDZllKnyuOSio+GHR",
      "include_colab_link": true
    },
    "kernelspec": {
      "name": "python3",
      "display_name": "Python 3"
    },
    "language_info": {
      "name": "python"
    }
  },
  "cells": [
    {
      "cell_type": "markdown",
      "metadata": {
        "id": "view-in-github",
        "colab_type": "text"
      },
      "source": [
        "<a href=\"https://colab.research.google.com/github/menelaosas/DL_ASV_PROJECT/blob/main/deep_l.ipynb\" target=\"_parent\"><img src=\"https://colab.research.google.com/assets/colab-badge.svg\" alt=\"Open In Colab\"/></a>"
      ]
    },
    {
      "cell_type": "markdown",
      "source": [
        "Data preprocess to convert audio signsls into spectrograms using the librosa library\n"
      ],
      "metadata": {
        "id": "RRvMO8DjbXJ8"
      }
    },
    {
      "cell_type": "code",
      "source": [
        "import numpy as np\n",
        "import librosa\n",
        "import librosa.display\n",
        "import matplotlib.pyplot as plt\n",
        "\n",
        "def create_spectrogram(audio_file, n_fft=2048, hop_length=512, resize_shape=(64,64)):\n",
        "    # Load the audio file\n",
        "    y, sr = librosa.load(audio_file)\n",
        "\n",
        "    # Create a spectrogram\n",
        "    D = librosa.stft(y, n_fft=n_fft, hop_length=hop_length)\n",
        "\n",
        "    # Convert to magnitude spectrogram\n",
        "    spect, phase = librosa.magphase(D)\n",
        "\n",
        "    # Convert to dB scale\n",
        "    spect_db = librosa.amplitude_to_db(spect, ref=np.max)\n",
        "\n",
        "    # Resize the spectrogram\n",
        "    spect_db_resized = resize(spect_db, resize_shape)\n",
        "\n",
        "    return spect_db_resized\n",
        "\n",
        "# Display the spectrogram\n",
        "spectrogram = create_spectrogram('path_to_audio_file.wav')\n",
        "plt.figure(figsize=(10, 4))\n",
        "librosa.display.specshow(spectrogram, x_axis='time', y_axis='log')\n",
        "plt.colorbar(format='%+2.0f dB')\n",
        "plt.title('Spectrogram')\n",
        "plt.show()\n"
      ],
      "metadata": {
        "id": "gnn1lc2KcEXF"
      },
      "execution_count": null,
      "outputs": []
    },
    {
      "cell_type": "markdown",
      "source": [
        "Generative Adversarial Networks (GANs)"
      ],
      "metadata": {
        "id": "D8kk09rFcU2z"
      }
    },
    {
      "cell_type": "code",
      "source": [
        "from tensorflow.keras.models import Sequential\n",
        "from tensorflow.keras.layers import Dense, Reshape, Conv2DTranspose, Conv2D, Flatten\n",
        "from tensorflow.keras.optimizers import Adam\n",
        "\n",
        "# Define the generator\n",
        "def build_generator(z_dim):\n",
        "    model = Sequential()\n",
        "    model.add(Dense(256 * 16 * 16, input_dim=z_dim))\n",
        "    model.add(Reshape((16, 16, 256)))\n",
        "    model.add(Conv2DTranspose(128, kernel_size=3, strides=2, padding='same'))\n",
        "    model.add(Conv2DTranspose(64, kernel_size=3, strides=2, padding='same'))\n",
        "    model.add(Conv2DTranspose(1, kernel_size=3, strides=2, padding='same', activation='tanh'))\n",
        "    return model\n",
        "\n",
        "# Define the discriminator\n",
        "def build_discriminator(img_shape):\n",
        "    model = Sequential()\n",
        "    model.add(Conv2D(32, kernel_size=3, strides=2, input_shape=img_shape, padding='same'))\n",
        "    model.add(Conv2D(64, kernel_size=3, strides=2, padding='same'))\n",
        "    model.add(Conv2D(128, kernel_size=3, strides=2, padding='same'))\n",
        "    model.add(Flatten())\n",
        "    model.add(Dense(1, activation='sigmoid'))\n",
        "    return model\n",
        "\n",
        "# Define the GAN\n",
        "def build_gan(generator, discriminator):\n",
        "    model = Sequential()\n",
        "    model.add(generator)\n",
        "    model.add(discriminator)\n",
        "    return model\n",
        "\n",
        "# Spectrogram shape depends on your data\n",
        "spectrogram_shape = (64, 64, 1)\n",
        "\n",
        "# Build and compile the discriminator\n",
        "discriminator = build_discriminator(spectrogram_shape)\n",
        "discriminator.compile(loss='binary_crossentropy', optimizer=Adam(), metrics=['accuracy'])\n",
        "\n",
        "# Build the generator\n",
        "generator = build_generator(100)\n",
        "\n",
        "# Keep discriminator's parameters constant for generator training\n",
        "discriminator.trainable = False\n",
        "\n",
        "# Build and compile the GAN\n",
        "gan = build_gan(generator, discriminator)\n",
        "gan.compile(loss='binary_crossentropy', optimizer=Adam())\n",
        "\n",
        "# Load your data and preprocess it\n",
        "# ...\n",
        "\n",
        "# Train your GAN\n",
        "# ...\n"
      ],
      "metadata": {
        "id": "ky6Eu4BFcV0q"
      },
      "execution_count": null,
      "outputs": []
    },
    {
      "cell_type": "markdown",
      "source": [
        "Efficacy of GAN-based Spoofing Attacks"
      ],
      "metadata": {
        "id": "qP92Oc2pdnwY"
      }
    },
    {
      "cell_type": "code",
      "source": [
        "# Assume `gan_spoof_samples` is a NumPy array of your GAN-generated spoof samples\n",
        "gan_spoof_samples = preprocess_data(gan_spoof_samples) # Preprocess these samples the same way you did with your training data\n",
        "\n",
        "# Assume these samples are all spoofed\n",
        "y_true = np.ones(len(gan_spoof_samples))\n",
        "\n",
        "# Use the ASV system to predict whether each GAN-generated sample is genuine or spoofed\n",
        "y_pred = np.argmax(model.predict(gan_spoof_samples), axis=1)\n",
        "\n",
        "# Compute the error rate\n",
        "error_rate = np.mean(y_true != y_pred)\n",
        "\n",
        "print(\"ASV Error Rate on GAN-generated samples: \", error_rate)"
      ],
      "metadata": {
        "id": "HiIW8OkMdpi6"
      },
      "execution_count": null,
      "outputs": []
    },
    {
      "cell_type": "markdown",
      "source": [
        "CNN-based Anti-Spoofing Measures"
      ],
      "metadata": {
        "id": "UWzpc8L-dFRA"
      }
    },
    {
      "cell_type": "code",
      "source": [
        "from tensorflow.keras.models import Sequential\n",
        "from tensorflow.keras.layers import Conv2D, MaxPooling2D, Flatten, Dense\n",
        "from tensorflow.keras.optimizers import Adam\n",
        "from sklearn.model_selection import train_test_split\n",
        "\n",
        "# Assume X is your preprocessed data and Y is your labels\n",
        "X_train, X_test, Y_train, Y_test = train_test_split(X, Y, test_size=0.2, random_state=42)\n",
        "\n",
        "# Convert the labels to one-hot encoding\n",
        "Y_train = to_categorical(Y_train, num_classes=2)\n",
        "Y_test = to_categorical(Y_test, num_classes=2)\n",
        "\n",
        "# Define the CNN architecture\n",
        "def build_model(input_shape):\n",
        "    model = Sequential()\n",
        "    model.add(Conv2D(32, (3, 3), activation='relu', input_shape=input_shape))\n",
        "    model.add(MaxPooling2D((2, 2)))\n",
        "    model.add(Conv2D(64, (3, 3), activation='relu'))\n",
        "    model.add(MaxPooling2D((2, 2)))\n",
        "    model.add(Conv2D(64, (3, 3), activation='relu'))\n",
        "    model.add(Flatten())\n",
        "    model.add(Dense(64, activation='relu'))\n",
        "    model.add(Dense(2, activation='softmax')) # output layer, 2 nodes for 2 classes\n",
        "    return model\n",
        "\n",
        "# Spectrogram shape depends on your data\n",
        "spectrogram_shape = (64, 64, 1)\n",
        "\n",
        "# Build the model\n",
        "model = build_model(spectrogram_shape)\n",
        "\n",
        "# Compile the model\n",
        "model.compile(loss='categorical_crossentropy',\n",
        "              optimizer=Adam(lr=0.001),\n",
        "              metrics=['accuracy'])\n",
        "\n",
        "# Train the model\n",
        "history = model.fit(X_train, Y_train,\n",
        "                    validation_data=(X_test, Y_test),\n",
        "                    epochs=20, batch_size=32)\n"
      ],
      "metadata": {
        "id": "tdd6v7GPdGEX"
      },
      "execution_count": null,
      "outputs": []
    },
    {
      "cell_type": "markdown",
      "source": [
        "# Investigate the Performance of CNN-based ASV System\n"
      ],
      "metadata": {
        "id": "TMwQx24UdU3l"
      }
    },
    {
      "cell_type": "code",
      "source": [
        "from sklearn.metrics import classification_report, confusion_matrix\n",
        "from sklearn.metrics import roc_curve, auc\n",
        "import matplotlib.pyplot as plt\n",
        "import numpy as np\n",
        "\n",
        "# Predict classes using the model\n",
        "y_pred = model.predict(X_test)\n",
        "y_pred_classes = np.argmax(y_pred, axis=1)\n",
        "\n",
        "# Convert Y_test to 1D array\n",
        "Y_test_classes = np.argmax(Y_test, axis=1)\n",
        "\n",
        "# Calculate metrics\n",
        "print(classification_report(Y_test_classes, y_pred_classes))\n",
        "\n",
        "# Generate confusion matrix\n",
        "print(confusion_matrix(Y_test_classes, y_pred_classes))\n",
        "\n",
        "# ROC curve and AUC\n",
        "fpr, tpr, _ = roc_curve(Y_test_classes, y_pred_classes)\n",
        "roc_auc = auc(fpr, tpr)\n",
        "\n",
        "plt.figure()\n",
        "plt.plot(fpr, tpr, color='darkorange', lw=2, label='ROC curve (area = %0.2f)' % roc_auc)\n",
        "plt.plot([0, 1], [0, 1], color='navy', lw=2, linestyle='--')\n",
        "plt.xlim([0.0, 1.0])\n",
        "plt.ylim([0.0, 1.05])\n",
        "plt.xlabel('False Positive Rate')\n",
        "plt.ylabel('True Positive Rate')\n",
        "plt.title('Receiver Operating Characteristic')\n",
        "plt.legend(loc=\"lower right\")\n",
        "plt.show()\n",
        "\n",
        "# Plot training & validation accuracy values\n",
        "plt.plot(history.history['accuracy'])\n",
        "plt.plot(history.history['val_accuracy'])\n",
        "plt.title('Model accuracy')\n",
        "plt.ylabel('Accuracy')\n",
        "plt.xlabel('Epoch')\n",
        "plt.legend(['Train', 'Test'], loc='upper left')\n",
        "plt.show()\n",
        "\n",
        "# Plot training & validation loss values\n",
        "plt.plot(history.history['loss'])\n",
        "plt.plot(history.history['val_loss'])\n",
        "plt.title('Model loss')\n",
        "plt.ylabel('Loss')\n",
        "plt.xlabel('Epoch')\n",
        "plt.legend(['Train', 'Test'], loc='upper left')\n",
        "plt.show()\n"
      ],
      "metadata": {
        "id": "afOcqputdWhg"
      },
      "execution_count": null,
      "outputs": []
    },
    {
      "cell_type": "markdown",
      "source": [
        "Effectiveness of CNN-based Anti-Spoofing Measures"
      ],
      "metadata": {
        "id": "LNHB5Skhd1D-"
      }
    },
    {
      "cell_type": "code",
      "source": [
        "from sklearn.metrics import accuracy_score, precision_score, recall_score, f1_score.\n",
        "\n",
        "# Assume 'X_val' is your validation data and 'y_val' are the corresponding true labels\n",
        "# Preprocess validation data\n",
        "X_val_preprocessed = preprocess_data(X_val)\n",
        "\n",
        "# Make predictions on the validation data\n",
        "y_pred = np.argmax(model.predict(X_val_preprocessed), axis=1)\n",
        "\n",
        "# Compute true labels from one-hot encoded to class labels\n",
        "y_true = np.argmax(y_val, axis=1)\n",
        "\n",
        "# Compute performance metrics\n",
        "accuracy = accuracy_score(y_true, y_pred)\n",
        "precision = precision_score(y_true, y_pred)\n",
        "recall = recall_score(y_true, y_pred)\n",
        "f1 = f1_score(y_true, y_pred)\n",
        "\n",
        "print(f\"Accuracy: {accuracy}\")\n",
        "print(f\"Precision: {precision}\")\n",
        "print(f\"Recall: {recall}\")\n",
        "print(f\"F1-Score: {f1}\")\n",
        "print(f\"AUC-ROC: {roc_auc}\")\n"
      ],
      "metadata": {
        "id": "MLO47vrvd2h3"
      },
      "execution_count": null,
      "outputs": []
    },
    {
      "cell_type": "markdown",
      "source": [
        "Comparative Analysis and Interpretation of Results of CNN and GANs"
      ],
      "metadata": {
        "id": "zJPFfo0Hi2WX"
      }
    },
    {
      "cell_type": "code",
      "source": [
        "import numpy as np\n",
        "import matplotlib.pyplot as plt\n",
        "from sklearn.metrics import accuracy_score\n",
        "\n",
        "# Get the predictions for the test set from each model\n",
        "cnn_predictions = cnn_model.predict(X_test)\n",
        "gan_predictions = gan_model.predict(X_test)\n",
        "\n",
        "# Calculate the accuracy of each model\n",
        "cnn_accuracy = accuracy_score(y_test, cnn_predictions)\n",
        "gan_accuracy = accuracy_score(y_test, gan_predictions)\n",
        "\n",
        "print(f\"Accuracy of CNN model: {cnn_accuracy}\")\n",
        "print(f\"Accuracy of GAN model: {gan_accuracy}\")\n",
        "\n",
        "# Compare the models' accuracies in a bar chart\n",
        "labels = ['CNN', 'GAN']\n",
        "accuracies = [cnn_accuracy, gan_accuracy]\n",
        "\n",
        "x = np.arange(len(labels))  # the label locations\n",
        "width = 0.35  # the width of the bars\n",
        "\n",
        "fig, ax = plt.subplots()\n",
        "rects = ax.bar(x, accuracies, width)\n",
        "\n",
        "# Add some text for labels, title and custom x-axis tick labels, etc.\n",
        "ax.set_ylabel('Accuracy')\n",
        "ax.set_title('Comparative Analysis of CNN and GAN Accuracy')\n",
        "ax.set_xticks(x)\n",
        "ax.set_xticklabels(labels)\n",
        "\n",
        "fig.tight_layout()\n",
        "\n",
        "plt.show()\n"
      ],
      "metadata": {
        "id": "5u5uIQ63i4Co"
      },
      "execution_count": null,
      "outputs": []
    },
    {
      "cell_type": "markdown",
      "source": [],
      "metadata": {
        "id": "p-5mo1TFb0o_"
      }
    },
    {
      "cell_type": "markdown",
      "source": [],
      "metadata": {
        "id": "y1csNS-AbZ-d"
      }
    }
  ]
}